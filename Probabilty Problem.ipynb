{
 "cells": [
  {
   "cell_type": "markdown",
   "id": "eefcabad",
   "metadata": {},
   "source": [
    "## Probabilty Problem"
   ]
  },
  {
   "cell_type": "markdown",
   "id": "88e3a4d4",
   "metadata": {},
   "source": [
    "Problem 1.\n",
    "\n",
    "There are 1000 students who's marks are captured based on their ability in the test. If the same test is given to a new student, what is the probability of getting 50 marks.."
   ]
  },
  {
   "cell_type": "code",
   "execution_count": 33,
   "id": "0815e38a",
   "metadata": {},
   "outputs": [],
   "source": [
    "from numpy.random import randint as ri\n",
    "import pandas as pd"
   ]
  },
  {
   "cell_type": "code",
   "execution_count": 34,
   "id": "3efc7a7e",
   "metadata": {},
   "outputs": [
    {
     "data": {
      "text/plain": [
       "0      83\n",
       "1      61\n",
       "2      99\n",
       "3      72\n",
       "4      63\n",
       "       ..\n",
       "995    97\n",
       "996    52\n",
       "997    86\n",
       "998    36\n",
       "999    55\n",
       "Length: 1000, dtype: int32"
      ]
     },
     "execution_count": 34,
     "metadata": {},
     "output_type": "execute_result"
    }
   ],
   "source": [
    "#Randomly generating 108 int b/w 30 to 100\n",
    "\n",
    "marks = ri(30,100,1000)\n",
    "stu_marks = pd. Series (marks)\n",
    "stu_marks"
   ]
  },
  {
   "cell_type": "code",
   "execution_count": 35,
   "id": "025c760c",
   "metadata": {},
   "outputs": [
    {
     "data": {
      "text/plain": [
       "0    83\n",
       "1    61\n",
       "2    99\n",
       "3    72\n",
       "4    63\n",
       "dtype: int32"
      ]
     },
     "execution_count": 35,
     "metadata": {},
     "output_type": "execute_result"
    }
   ],
   "source": [
    "stu_marks.head()"
   ]
  },
  {
   "cell_type": "code",
   "execution_count": 36,
   "id": "6e18160a",
   "metadata": {},
   "outputs": [],
   "source": [
    "# Let's take mean and standard deviation(std). We need these data to find the probability."
   ]
  },
  {
   "cell_type": "code",
   "execution_count": 37,
   "id": "0d10d01f",
   "metadata": {},
   "outputs": [
    {
     "name": "stdout",
     "output_type": "stream",
     "text": [
      "mean marks = 63.707\n",
      "marks std = 20.597218171306462\n"
     ]
    }
   ],
   "source": [
    "# Mean\n",
    "marks_mean = stu_marks.mean()\n",
    "print ('mean marks =',marks_mean)\n",
    "\n",
    "# Std\n",
    "marks_std = stu_marks.std()\n",
    "print ('marks std =' ,marks_std)"
   ]
  },
  {
   "cell_type": "code",
   "execution_count": 38,
   "id": "e830bdb0",
   "metadata": {},
   "outputs": [],
   "source": [
    "#what is the probability of a student scoring UPTO 50%\n",
    "x = 50\n"
   ]
  },
  {
   "cell_type": "markdown",
   "id": "11ff600b",
   "metadata": {},
   "source": [
    "#### Probability always between 0-1 and starts from 0"
   ]
  },
  {
   "cell_type": "code",
   "execution_count": 39,
   "id": "1a461e33",
   "metadata": {},
   "outputs": [
    {
     "name": "stdout",
     "output_type": "stream",
     "text": [
      "0.2528723361398009\n"
     ]
    }
   ],
   "source": [
    "import scipy.stats as st\n",
    "\n",
    "#When X(data) is given then, use cdf function to find the probabilty of scoring marks upto se (x)\n",
    "\n",
    "prob=st.norm.cdf(x,loc=marks_mean, scale=marks_std)\n",
    "\n",
    "print (prob)"
   ]
  },
  {
   "cell_type": "code",
   "execution_count": 40,
   "id": "9b6915fb",
   "metadata": {},
   "outputs": [
    {
     "data": {
      "text/plain": [
       "-0.6654782158444544"
      ]
     },
     "execution_count": 40,
     "metadata": {},
     "output_type": "execute_result"
    }
   ],
   "source": [
    "# z=(x-mean)/std\n",
    "\n",
    "score = (x - marks_mean) / marks_std\n",
    "score"
   ]
  },
  {
   "cell_type": "markdown",
   "id": "41a7d008",
   "metadata": {},
   "source": [
    "#### Problem\n",
    "\n",
    "A car manufacturing company claims mileage of all their cars is 25 kmpl. The population standard deviation is known from the past experience to be 1.5 kmpl. A car rental company wants to test the null hypothesis that the average mileage is at least 25 kmpl. Car rental representative drove 30 cars (samples) of the same company and recorded each car mileage. The average mileage of the sample turned out to be 24.2 kmpl."
   ]
  },
  {
   "cell_type": "markdown",
   "id": "e75fa880",
   "metadata": {},
   "source": [
    "Test the null hypothesis?\n",
    "\n",
    "(HO) Null Hypothesis >= 25\n",
    "\n",
    "(H1) Alternative Hypothesis < 25"
   ]
  },
  {
   "cell_type": "code",
   "execution_count": 41,
   "id": "7895d7c2",
   "metadata": {},
   "outputs": [],
   "source": [
    "import numpy as np \n",
    "mean = 25 \n",
    "sample_mean = 24.21 \n",
    "std = 1.5 \n",
    "n = 30"
   ]
  },
  {
   "cell_type": "code",
   "execution_count": 42,
   "id": "b5653b98",
   "metadata": {},
   "outputs": [
    {
     "data": {
      "text/plain": [
       "-2.884672136193872"
      ]
     },
     "execution_count": 42,
     "metadata": {},
     "output_type": "execute_result"
    }
   ],
   "source": [
    "z = (sample_mean - mean)/ (std/np.sqrt(30))\n",
    "z\n"
   ]
  },
  {
   "cell_type": "code",
   "execution_count": 43,
   "id": "0a44043e",
   "metadata": {},
   "outputs": [
    {
     "data": {
      "text/plain": [
       "0.0019591074329942293"
      ]
     },
     "execution_count": 43,
     "metadata": {},
     "output_type": "execute_result"
    }
   ],
   "source": [
    "# Using statistics tools\n",
    "\n",
    "\n",
    "import scipy.stats as st\n",
    "import numpy as np\n",
    "p_value = st.norm.cdf (sample_mean,loc=mean,scale=std/np.sqrt(30))\n",
    "p_value"
   ]
  },
  {
   "cell_type": "markdown",
   "id": "226867a7",
   "metadata": {},
   "source": [
    "#### Important points\n",
    "\n",
    "• Standard alpha level = 0.05\n",
    "\n",
    "• If p-value is < 0.05 then we reject null hypothesis (Ho)\n",
    "\n",
    "• If p-value is > 0.05 then we failed to reject the Ho\n",
    "\n",
    "**Conclusion:**  As the p-value is less than alpha (0.05), we reject the null hypothesis (mileage >= 25kmpl). Which also means that, all the cars do not give mileage so rental company will not buy the cars."
   ]
  },
  {
   "cell_type": "markdown",
   "id": "9b5c1460",
   "metadata": {},
   "source": [
    "### Type 1 Error - If Ho is True and you reject Ho\n",
    "\n",
    "In our example, If average car mileage is really 25 or > 25 kmpl and rental agency rejects it. It's Type 1 error.\n",
    "\n",
    "### Type 2 Error - If Ho is False and you failed to reject Ho\n",
    "\n",
    "If Average car mileage is really < 25 kmpl but rental agency buying cars (failed to reject HO). It's Type 2 error.\n",
    "\n",
    "\n",
    "\n",
    "### Statistical Tools\n",
    "\n",
    "1. ttest or student's ttest\n",
    "\n",
    "2. ANOVA"
   ]
  },
  {
   "cell_type": "markdown",
   "id": "0926de33",
   "metadata": {},
   "source": [
    "## ttest\n",
    "\n",
    "**One sample ttest**\n",
    "\n",
    "**Two sample ttest**\n"
   ]
  },
  {
   "cell_type": "code",
   "execution_count": 44,
   "id": "a34df576",
   "metadata": {},
   "outputs": [
    {
     "data": {
      "text/html": [
       "<div>\n",
       "<style scoped>\n",
       "    .dataframe tbody tr th:only-of-type {\n",
       "        vertical-align: middle;\n",
       "    }\n",
       "\n",
       "    .dataframe tbody tr th {\n",
       "        vertical-align: top;\n",
       "    }\n",
       "\n",
       "    .dataframe thead th {\n",
       "        text-align: right;\n",
       "    }\n",
       "</style>\n",
       "<table border=\"1\" class=\"dataframe\">\n",
       "  <thead>\n",
       "    <tr style=\"text-align: right;\">\n",
       "      <th></th>\n",
       "      <th>ID</th>\n",
       "      <th>Gender</th>\n",
       "      <th>Race</th>\n",
       "      <th>SEB</th>\n",
       "      <th>School</th>\n",
       "      <th>Prog</th>\n",
       "      <th>Read</th>\n",
       "      <th>Write</th>\n",
       "      <th>Math1</th>\n",
       "      <th>Math2</th>\n",
       "      <th>SST</th>\n",
       "    </tr>\n",
       "  </thead>\n",
       "  <tbody>\n",
       "    <tr>\n",
       "      <th>0</th>\n",
       "      <td>70</td>\n",
       "      <td>0</td>\n",
       "      <td>4</td>\n",
       "      <td>1</td>\n",
       "      <td>1</td>\n",
       "      <td>1</td>\n",
       "      <td>57</td>\n",
       "      <td>52</td>\n",
       "      <td>41</td>\n",
       "      <td>47</td>\n",
       "      <td>57</td>\n",
       "    </tr>\n",
       "    <tr>\n",
       "      <th>1</th>\n",
       "      <td>121</td>\n",
       "      <td>1</td>\n",
       "      <td>4</td>\n",
       "      <td>2</td>\n",
       "      <td>1</td>\n",
       "      <td>3</td>\n",
       "      <td>68</td>\n",
       "      <td>59</td>\n",
       "      <td>53</td>\n",
       "      <td>63</td>\n",
       "      <td>61</td>\n",
       "    </tr>\n",
       "    <tr>\n",
       "      <th>2</th>\n",
       "      <td>86</td>\n",
       "      <td>0</td>\n",
       "      <td>4</td>\n",
       "      <td>3</td>\n",
       "      <td>1</td>\n",
       "      <td>1</td>\n",
       "      <td>44</td>\n",
       "      <td>33</td>\n",
       "      <td>54</td>\n",
       "      <td>58</td>\n",
       "      <td>31</td>\n",
       "    </tr>\n",
       "    <tr>\n",
       "      <th>3</th>\n",
       "      <td>141</td>\n",
       "      <td>0</td>\n",
       "      <td>4</td>\n",
       "      <td>3</td>\n",
       "      <td>1</td>\n",
       "      <td>3</td>\n",
       "      <td>63</td>\n",
       "      <td>44</td>\n",
       "      <td>47</td>\n",
       "      <td>53</td>\n",
       "      <td>56</td>\n",
       "    </tr>\n",
       "    <tr>\n",
       "      <th>4</th>\n",
       "      <td>172</td>\n",
       "      <td>0</td>\n",
       "      <td>4</td>\n",
       "      <td>2</td>\n",
       "      <td>1</td>\n",
       "      <td>2</td>\n",
       "      <td>47</td>\n",
       "      <td>52</td>\n",
       "      <td>57</td>\n",
       "      <td>53</td>\n",
       "      <td>61</td>\n",
       "    </tr>\n",
       "  </tbody>\n",
       "</table>\n",
       "</div>"
      ],
      "text/plain": [
       "    ID  Gender  Race  SEB  School  Prog  Read  Write  Math1  Math2  SST\n",
       "0   70       0     4    1       1     1    57     52     41     47   57\n",
       "1  121       1     4    2       1     3    68     59     53     63   61\n",
       "2   86       0     4    3       1     1    44     33     54     58   31\n",
       "3  141       0     4    3       1     3    63     44     47     53   56\n",
       "4  172       0     4    2       1     2    47     52     57     53   61"
      ]
     },
     "execution_count": 44,
     "metadata": {},
     "output_type": "execute_result"
    }
   ],
   "source": [
    "#Conduct ttest when standard deviation is not known.\n",
    "\n",
    "import pandas as pd\n",
    "hyp = pd.read_csv(r'C:\\Users\\SURAJ\\Downloads\\Hypothesis ttest.csv')\n",
    "hyp.head()\n"
   ]
  },
  {
   "cell_type": "markdown",
   "id": "11ad89ee",
   "metadata": {},
   "source": [
    "**A teacher want to teach students for a competative exams. She collected sample of students marks from different schools and based on her past experience she believes that, these type of students will score more than 60 marks in the exams. Now she want to conduct hypothesis test on the marks.**\n"
   ]
  },
  {
   "cell_type": "code",
   "execution_count": 45,
   "id": "0fbc80bd",
   "metadata": {},
   "outputs": [],
   "source": [
    "# Ho= mu >= 60\n",
    "# Ha = mu < 60"
   ]
  },
  {
   "cell_type": "code",
   "execution_count": 46,
   "id": "5e566d74",
   "metadata": {},
   "outputs": [
    {
     "data": {
      "text/plain": [
       "52.645"
      ]
     },
     "execution_count": 46,
     "metadata": {},
     "output_type": "execute_result"
    }
   ],
   "source": [
    "hyp['Math1'].mean()"
   ]
  },
  {
   "cell_type": "code",
   "execution_count": 47,
   "id": "667a0696",
   "metadata": {},
   "outputs": [],
   "source": [
    "alpha = .05\n",
    "xbar = 52.645\n",
    "mu= 60"
   ]
  },
  {
   "cell_type": "markdown",
   "id": "c4100254",
   "metadata": {},
   "source": [
    "## 1 Sample t test"
   ]
  },
  {
   "cell_type": "code",
   "execution_count": 48,
   "id": "ce3c754a",
   "metadata": {},
   "outputs": [
    {
     "data": {
      "text/plain": [
       "Ttest_1sampResult(statistic=-11.102736525713398, pvalue=1.3339158110547646e-22)"
      ]
     },
     "execution_count": 48,
     "metadata": {},
     "output_type": "execute_result"
    }
   ],
   "source": [
    "import scipy.stats as st\n",
    "\n",
    "# Since we are conducting test for one sample we will go for 1sampal ttest \n",
    "st.ttest_1samp (hyp.Math1,mu)\n",
    "\n",
    "# When you run ttest, we get 2 values 1. t statistics score and 2. pvalue for two tail\n",
    "\n",
    "#pvalue/2"
   ]
  },
  {
   "cell_type": "code",
   "execution_count": 49,
   "id": "30b62e2e",
   "metadata": {},
   "outputs": [],
   "source": [
    "# Lets write this way \n",
    "s,p = st.ttest_1samp(hyp.Math1, mu)"
   ]
  },
  {
   "cell_type": "code",
   "execution_count": 50,
   "id": "5ee409d3",
   "metadata": {},
   "outputs": [
    {
     "data": {
      "text/plain": [
       "-11.102736525713398"
      ]
     },
     "execution_count": 50,
     "metadata": {},
     "output_type": "execute_result"
    }
   ],
   "source": [
    "s"
   ]
  },
  {
   "cell_type": "code",
   "execution_count": 51,
   "id": "a00d9160",
   "metadata": {},
   "outputs": [
    {
     "data": {
      "text/plain": [
       "1.3339158110547646e-22"
      ]
     },
     "execution_count": 51,
     "metadata": {},
     "output_type": "execute_result"
    }
   ],
   "source": [
    "p"
   ]
  },
  {
   "cell_type": "code",
   "execution_count": 52,
   "id": "b09577f0",
   "metadata": {},
   "outputs": [
    {
     "data": {
      "text/plain": [
       "6.669579055273823e-23"
      ]
     },
     "execution_count": 52,
     "metadata": {},
     "output_type": "execute_result"
    }
   ],
   "source": [
    "# for our problem we need to find left tail p value\n",
    "\n",
    "p/2"
   ]
  },
  {
   "cell_type": "markdown",
   "id": "ba6fe9b0",
   "metadata": {},
   "source": [
    "## 2 sample t test"
   ]
  },
  {
   "cell_type": "markdown",
   "id": "72e389a0",
   "metadata": {},
   "source": [
    "### Independent sample"
   ]
  },
  {
   "cell_type": "markdown",
   "id": "c1f5b13d",
   "metadata": {},
   "source": [
    "### paired sample\n"
   ]
  },
  {
   "cell_type": "code",
   "execution_count": 53,
   "id": "4b8e2d6e",
   "metadata": {},
   "outputs": [
    {
     "data": {
      "text/html": [
       "<div>\n",
       "<style scoped>\n",
       "    .dataframe tbody tr th:only-of-type {\n",
       "        vertical-align: middle;\n",
       "    }\n",
       "\n",
       "    .dataframe tbody tr th {\n",
       "        vertical-align: top;\n",
       "    }\n",
       "\n",
       "    .dataframe thead th {\n",
       "        text-align: right;\n",
       "    }\n",
       "</style>\n",
       "<table border=\"1\" class=\"dataframe\">\n",
       "  <thead>\n",
       "    <tr style=\"text-align: right;\">\n",
       "      <th></th>\n",
       "      <th>ID</th>\n",
       "      <th>Gender</th>\n",
       "      <th>Race</th>\n",
       "      <th>SEB</th>\n",
       "      <th>School</th>\n",
       "      <th>Prog</th>\n",
       "      <th>Read</th>\n",
       "      <th>Write</th>\n",
       "      <th>Math1</th>\n",
       "      <th>Math2</th>\n",
       "      <th>SST</th>\n",
       "    </tr>\n",
       "  </thead>\n",
       "  <tbody>\n",
       "    <tr>\n",
       "      <th>0</th>\n",
       "      <td>70</td>\n",
       "      <td>0</td>\n",
       "      <td>4</td>\n",
       "      <td>1</td>\n",
       "      <td>1</td>\n",
       "      <td>1</td>\n",
       "      <td>57</td>\n",
       "      <td>52</td>\n",
       "      <td>41</td>\n",
       "      <td>47</td>\n",
       "      <td>57</td>\n",
       "    </tr>\n",
       "    <tr>\n",
       "      <th>1</th>\n",
       "      <td>121</td>\n",
       "      <td>1</td>\n",
       "      <td>4</td>\n",
       "      <td>2</td>\n",
       "      <td>1</td>\n",
       "      <td>3</td>\n",
       "      <td>68</td>\n",
       "      <td>59</td>\n",
       "      <td>53</td>\n",
       "      <td>63</td>\n",
       "      <td>61</td>\n",
       "    </tr>\n",
       "    <tr>\n",
       "      <th>2</th>\n",
       "      <td>86</td>\n",
       "      <td>0</td>\n",
       "      <td>4</td>\n",
       "      <td>3</td>\n",
       "      <td>1</td>\n",
       "      <td>1</td>\n",
       "      <td>44</td>\n",
       "      <td>33</td>\n",
       "      <td>54</td>\n",
       "      <td>58</td>\n",
       "      <td>31</td>\n",
       "    </tr>\n",
       "    <tr>\n",
       "      <th>3</th>\n",
       "      <td>141</td>\n",
       "      <td>0</td>\n",
       "      <td>4</td>\n",
       "      <td>3</td>\n",
       "      <td>1</td>\n",
       "      <td>3</td>\n",
       "      <td>63</td>\n",
       "      <td>44</td>\n",
       "      <td>47</td>\n",
       "      <td>53</td>\n",
       "      <td>56</td>\n",
       "    </tr>\n",
       "    <tr>\n",
       "      <th>4</th>\n",
       "      <td>172</td>\n",
       "      <td>0</td>\n",
       "      <td>4</td>\n",
       "      <td>2</td>\n",
       "      <td>1</td>\n",
       "      <td>2</td>\n",
       "      <td>47</td>\n",
       "      <td>52</td>\n",
       "      <td>57</td>\n",
       "      <td>53</td>\n",
       "      <td>61</td>\n",
       "    </tr>\n",
       "  </tbody>\n",
       "</table>\n",
       "</div>"
      ],
      "text/plain": [
       "    ID  Gender  Race  SEB  School  Prog  Read  Write  Math1  Math2  SST\n",
       "0   70       0     4    1       1     1    57     52     41     47   57\n",
       "1  121       1     4    2       1     3    68     59     53     63   61\n",
       "2   86       0     4    3       1     1    44     33     54     58   31\n",
       "3  141       0     4    3       1     3    63     44     47     53   56\n",
       "4  172       0     4    2       1     2    47     52     57     53   61"
      ]
     },
     "execution_count": 53,
     "metadata": {},
     "output_type": "execute_result"
    }
   ],
   "source": [
    "hyp.head()"
   ]
  },
  {
   "cell_type": "code",
   "execution_count": 54,
   "id": "44957c85",
   "metadata": {},
   "outputs": [
    {
     "data": {
      "text/plain": [
       "1    109\n",
       "0     91\n",
       "Name: Gender, dtype: int64"
      ]
     },
     "execution_count": 54,
     "metadata": {},
     "output_type": "execute_result"
    }
   ],
   "source": [
    "hyp['Gender'].value_counts()"
   ]
  },
  {
   "cell_type": "code",
   "execution_count": 55,
   "id": "e98e6bff",
   "metadata": {},
   "outputs": [
    {
     "data": {
      "text/plain": [
       "1     53\n",
       "92    65\n",
       "93    52\n",
       "94    46\n",
       "95    61\n",
       "Name: Math1, dtype: int64"
      ]
     },
     "execution_count": 55,
     "metadata": {},
     "output_type": "execute_result"
    }
   ],
   "source": [
    "#How to subset the data on Gender\n",
    "hyp[hyp['Gender']==1].Math1.head()"
   ]
  },
  {
   "cell_type": "code",
   "execution_count": 56,
   "id": "3175a302",
   "metadata": {},
   "outputs": [],
   "source": [
    "# Independent sample\n",
    "t,p=st.ttest_ind (hyp[hyp['Gender']==1].Math1, hyp [hyp[ 'Gender']==0].Math1)"
   ]
  },
  {
   "cell_type": "code",
   "execution_count": 59,
   "id": "beef764f",
   "metadata": {},
   "outputs": [
    {
     "data": {
      "text/plain": [
       "0.6800544974232143"
      ]
     },
     "execution_count": 59,
     "metadata": {},
     "output_type": "execute_result"
    }
   ],
   "source": [
    "p"
   ]
  },
  {
   "cell_type": "code",
   "execution_count": 62,
   "id": "4f787b19",
   "metadata": {},
   "outputs": [],
   "source": [
    "# Paired sample\n",
    "t,p=st.ttest_rel(hyp.Math1,hyp.Math2)"
   ]
  },
  {
   "cell_type": "code",
   "execution_count": 64,
   "id": "93730b37",
   "metadata": {},
   "outputs": [
    {
     "data": {
      "text/plain": [
       "0.17676525605507354"
      ]
     },
     "execution_count": 64,
     "metadata": {},
     "output_type": "execute_result"
    }
   ],
   "source": [
    "p"
   ]
  },
  {
   "cell_type": "markdown",
   "id": "2d3cd071",
   "metadata": {},
   "source": [
    "There is an another test which is more than 2 sample t test. But for each t test we allow 5% error (alpha), so if we conduct more than 2 sample t test we are adding 5% more error for each extra sample t test. In order to resolve this problem we go for ANOVA test. L.e. ANalysis Of Variance"
   ]
  },
  {
   "cell_type": "code",
   "execution_count": null,
   "id": "b71427f1",
   "metadata": {},
   "outputs": [],
   "source": []
  }
 ],
 "metadata": {
  "kernelspec": {
   "display_name": "Python 3 (ipykernel)",
   "language": "python",
   "name": "python3"
  },
  "language_info": {
   "codemirror_mode": {
    "name": "ipython",
    "version": 3
   },
   "file_extension": ".py",
   "mimetype": "text/x-python",
   "name": "python",
   "nbconvert_exporter": "python",
   "pygments_lexer": "ipython3",
   "version": "3.9.7"
  }
 },
 "nbformat": 4,
 "nbformat_minor": 5
}
